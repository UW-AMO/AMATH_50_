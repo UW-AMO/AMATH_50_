{
 "cells": [
  {
   "cell_type": "markdown",
   "metadata": {},
   "source": [
    "# Test Logistic Regression with Trimming"
   ]
  },
  {
   "cell_type": "code",
   "execution_count": 1,
   "metadata": {},
   "outputs": [],
   "source": [
    "import numpy as np\n",
    "import sys\n",
    "sys.path.append(\"../src\")\n",
    "import solver\n",
    "import utils\n",
    "import simulate"
   ]
  },
  {
   "cell_type": "code",
   "execution_count": 2,
   "metadata": {},
   "outputs": [],
   "source": [
    "# load data\n",
    "# data_folder = \"../data/\"\n",
    "# training_images = np.load(data_folder + \"train_images.npy\")\n",
    "# training_labels = np.load(data_folder + \"train_labels.npy\")\n",
    "# testing_images = np.load(data_folder + \"test_images.npy\")\n",
    "# testing_labels = np.load(data_folder + \"test_labels.npy\")\n",
    "\n",
    "# image_shape = (28, 28)\n",
    "\n",
    "# training_data = utils.ImageData(training_images, image_shape, labels=training_labels)\n",
    "# testing_data = utils.ImageData(testing_images, image_shape, labels=testing_labels)"
   ]
  },
  {
   "cell_type": "code",
   "execution_count": 3,
   "metadata": {},
   "outputs": [],
   "source": [
    "# simulate data\n",
    "training_data = simulate.simulate_images((28, 28), [100, 100, 20])\n",
    "testing_data = simulate.simulate_images((28, 28), [10, 10, 0])"
   ]
  },
  {
   "cell_type": "code",
   "execution_count": 4,
   "metadata": {},
   "outputs": [],
   "source": [
    "model = solver.BinaryLogisticRegression(training_data, lam=0.1, inlier_pct=0.9)"
   ]
  },
  {
   "cell_type": "code",
   "execution_count": 5,
   "metadata": {},
   "outputs": [
    {
     "name": "stdout",
     "output_type": "stream",
     "text": [
      "initial obj: 6.93e-01\n",
      "iter 1, obj 2.70e-01, err 4.57e+00\n",
      "iter 2, obj 2.16e-01, err 1.44e+00\n",
      "iter 3, obj 2.14e-01, err 1.27e-03\n",
      "iter 4, obj 2.14e-01, err 4.34e-06\n",
      "iter 5, obj 2.14e-01, err 5.79e-11\n"
     ]
    }
   ],
   "source": [
    "classifier, outliers = model.fit_model(verbose=True)"
   ]
  },
  {
   "cell_type": "code",
   "execution_count": 6,
   "metadata": {},
   "outputs": [
    {
     "name": "stdout",
     "output_type": "stream",
     "text": [
      "number of mislabels in testing data: 0\n"
     ]
    }
   ],
   "source": [
    "classifier.modify_class_labels(np.array([0.0, 1.0]))\n",
    "pred_labels = classifier.classify_images(testing_data.images)\n",
    "print(\"number of mislabels in testing data:\", np.sum(pred_labels != testing_data.labels))"
   ]
  },
  {
   "cell_type": "code",
   "execution_count": 7,
   "metadata": {},
   "outputs": [
    {
     "data": {
      "image/png": "[encoded data removed]",
      "text/plain": [
       "<Figure size 432x288 with 1 Axes>"
      ]
     },
     "metadata": {
      "needs_background": "light"
     },
     "output_type": "display_data"
    }
   ],
   "source": [
    "classifier.plot_classifier()"
   ]
  },
  {
   "cell_type": "code",
   "execution_count": 8,
   "metadata": {},
   "outputs": [
    {
     "data": {
      "image/png": "[encoded data removed]",
      "text/plain": [
       "<Figure size 432x288 with 1 Axes>"
      ]
     },
     "metadata": {
      "needs_background": "light"
     },
     "output_type": "display_data"
    }
   ],
   "source": [
    "outliers.plot_image(19)"
   ]
  },
  {
   "cell_type": "code",
   "execution_count": null,
   "metadata": {},
   "outputs": [],
   "source": []
  }
 ],
 "metadata": {
  "kernelspec": {
   "display_name": "Python 3",
   "language": "python",
   "name": "python3"
  },
  "language_info": {
   "codemirror_mode": {
    "name": "ipython",
    "version": 3
   },
   "file_extension": ".py",
   "mimetype": "text/x-python",
   "name": "python",
   "nbconvert_exporter": "python",
   "pygments_lexer": "ipython3",
   "version": "3.7.3"
  }
 },
 "nbformat": 4,
 "nbformat_minor": 2
}
